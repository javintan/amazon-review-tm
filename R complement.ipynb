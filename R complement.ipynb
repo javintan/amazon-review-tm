{
 "cells": [
  {
   "cell_type": "code",
   "execution_count": 2,
   "metadata": {
    "ExecuteTime": {
     "end_time": "2020-02-27T05:39:45.557938Z",
     "start_time": "2020-02-27T05:38:45.774Z"
    }
   },
   "outputs": [],
   "source": [
    "setwd('~/Documents/python_code/text_mining/hw3/')\n",
    "X_train = read.csv('X_train.csv')\n",
    "X_test = read.csv('X_test.csv')\n",
    "y_train = read.csv('y_train.csv')\n",
    "y_test = read.csv('y_test.csv')"
   ]
  },
  {
   "cell_type": "code",
   "execution_count": 4,
   "metadata": {
    "ExecuteTime": {
     "end_time": "2020-02-27T05:46:04.684615Z",
     "start_time": "2020-02-27T05:46:04.666Z"
    }
   },
   "outputs": [],
   "source": [
    "library('textir')"
   ]
  },
  {
   "cell_type": "code",
   "execution_count": 5,
   "metadata": {
    "ExecuteTime": {
     "end_time": "2020-02-27T05:50:14.039647Z",
     "start_time": "2020-02-27T05:46:04.809Z"
    }
   },
   "outputs": [],
   "source": [
    "# Fit LASSO-GAMMA\n",
    "fit <- mnlm(NULL, y_train, X_train)"
   ]
  },
  {
   "cell_type": "code",
   "execution_count": 6,
   "metadata": {
    "ExecuteTime": {
     "end_time": "2020-02-27T05:50:14.772581Z",
     "start_time": "2020-02-27T05:46:05.235Z"
    }
   },
   "outputs": [],
   "source": [
    "term_loading = data.frame('coef'=coef(fit)[2,])\n",
    "term_loading$absCoef = abs(term_loading$coef)"
   ]
  },
  {
   "cell_type": "code",
   "execution_count": 7,
   "metadata": {
    "ExecuteTime": {
     "end_time": "2020-02-27T05:50:14.786988Z",
     "start_time": "2020-02-27T05:46:05.405Z"
    }
   },
   "outputs": [],
   "source": [
    "term_loading = term_loading[order(term_loading$absCoef, decreasing = TRUE),]"
   ]
  },
  {
   "cell_type": "code",
   "execution_count": 8,
   "metadata": {
    "ExecuteTime": {
     "end_time": "2020-02-27T05:50:14.851819Z",
     "start_time": "2020-02-27T05:46:05.578Z"
    }
   },
   "outputs": [
    {
     "data": {
      "text/html": [
       "<table>\n",
       "<caption>A data.frame: 10 × 2</caption>\n",
       "<thead>\n",
       "\t<tr><th></th><th scope=col>coef</th><th scope=col>absCoef</th></tr>\n",
       "\t<tr><th></th><th scope=col>&lt;dbl&gt;</th><th scope=col>&lt;dbl&gt;</th></tr>\n",
       "</thead>\n",
       "<tbody>\n",
       "\t<tr><th scope=row>garbag</th><td>-2.117111</td><td>2.117111</td></tr>\n",
       "\t<tr><th scope=row>wack</th><td>-2.032871</td><td>2.032871</td></tr>\n",
       "\t<tr><th scope=row>horribl</th><td>-1.962467</td><td>1.962467</td></tr>\n",
       "\t<tr><th scope=row>worst</th><td>-1.872887</td><td>1.872887</td></tr>\n",
       "\t<tr><th scope=row>aw</th><td>-1.806950</td><td>1.806950</td></tr>\n",
       "\t<tr><th scope=row>terribl</th><td>-1.735553</td><td>1.735553</td></tr>\n",
       "\t<tr><th scope=row>wors</th><td>-1.675908</td><td>1.675908</td></tr>\n",
       "\t<tr><th scope=row>mediocr</th><td>-1.670686</td><td>1.670686</td></tr>\n",
       "\t<tr><th scope=row>suck</th><td>-1.661779</td><td>1.661779</td></tr>\n",
       "\t<tr><th scope=row>timeless</th><td> 1.613588</td><td>1.613588</td></tr>\n",
       "</tbody>\n",
       "</table>\n"
      ],
      "text/latex": [
       "A data.frame: 10 × 2\n",
       "\\begin{tabular}{r|ll}\n",
       "  & coef & absCoef\\\\\n",
       "  & <dbl> & <dbl>\\\\\n",
       "\\hline\n",
       "\tgarbag & -2.117111 & 2.117111\\\\\n",
       "\twack & -2.032871 & 2.032871\\\\\n",
       "\thorribl & -1.962467 & 1.962467\\\\\n",
       "\tworst & -1.872887 & 1.872887\\\\\n",
       "\taw & -1.806950 & 1.806950\\\\\n",
       "\tterribl & -1.735553 & 1.735553\\\\\n",
       "\twors & -1.675908 & 1.675908\\\\\n",
       "\tmediocr & -1.670686 & 1.670686\\\\\n",
       "\tsuck & -1.661779 & 1.661779\\\\\n",
       "\ttimeless &  1.613588 & 1.613588\\\\\n",
       "\\end{tabular}\n"
      ],
      "text/markdown": [
       "\n",
       "A data.frame: 10 × 2\n",
       "\n",
       "| <!--/--> | coef &lt;dbl&gt; | absCoef &lt;dbl&gt; |\n",
       "|---|---|---|\n",
       "| garbag | -2.117111 | 2.117111 |\n",
       "| wack | -2.032871 | 2.032871 |\n",
       "| horribl | -1.962467 | 1.962467 |\n",
       "| worst | -1.872887 | 1.872887 |\n",
       "| aw | -1.806950 | 1.806950 |\n",
       "| terribl | -1.735553 | 1.735553 |\n",
       "| wors | -1.675908 | 1.675908 |\n",
       "| mediocr | -1.670686 | 1.670686 |\n",
       "| suck | -1.661779 | 1.661779 |\n",
       "| timeless |  1.613588 | 1.613588 |\n",
       "\n"
      ],
      "text/plain": [
       "         coef      absCoef \n",
       "garbag   -2.117111 2.117111\n",
       "wack     -2.032871 2.032871\n",
       "horribl  -1.962467 1.962467\n",
       "worst    -1.872887 1.872887\n",
       "aw       -1.806950 1.806950\n",
       "terribl  -1.735553 1.735553\n",
       "wors     -1.675908 1.675908\n",
       "mediocr  -1.670686 1.670686\n",
       "suck     -1.661779 1.661779\n",
       "timeless  1.613588 1.613588"
      ]
     },
     "metadata": {},
     "output_type": "display_data"
    }
   ],
   "source": [
    "head(term_loading, 10)"
   ]
  },
  {
   "cell_type": "code",
   "execution_count": 9,
   "metadata": {
    "ExecuteTime": {
     "end_time": "2020-02-27T05:50:14.877470Z",
     "start_time": "2020-02-27T05:46:05.741Z"
    }
   },
   "outputs": [
    {
     "data": {
      "text/html": [
       "<table>\n",
       "<caption>A data.frame: 10 × 2</caption>\n",
       "<thead>\n",
       "\t<tr><th></th><th scope=col>coef</th><th scope=col>absCoef</th></tr>\n",
       "\t<tr><th></th><th scope=col>&lt;dbl&gt;</th><th scope=col>&lt;dbl&gt;</th></tr>\n",
       "</thead>\n",
       "<tbody>\n",
       "\t<tr><th scope=row>week</th><td>0</td><td>0</td></tr>\n",
       "\t<tr><th scope=row>went</th><td>0</td><td>0</td></tr>\n",
       "\t<tr><th scope=row>west</th><td>0</td><td>0</td></tr>\n",
       "\t<tr><th scope=row>white</th><td>0</td><td>0</td></tr>\n",
       "\t<tr><th scope=row>win</th><td>0</td><td>0</td></tr>\n",
       "\t<tr><th scope=row>word</th><td>0</td><td>0</td></tr>\n",
       "\t<tr><th scope=row>worthi</th><td>0</td><td>0</td></tr>\n",
       "\t<tr><th scope=row>wow</th><td>0</td><td>0</td></tr>\n",
       "\t<tr><th scope=row>york</th><td>0</td><td>0</td></tr>\n",
       "\t<tr><th scope=row>young</th><td>0</td><td>0</td></tr>\n",
       "</tbody>\n",
       "</table>\n"
      ],
      "text/latex": [
       "A data.frame: 10 × 2\n",
       "\\begin{tabular}{r|ll}\n",
       "  & coef & absCoef\\\\\n",
       "  & <dbl> & <dbl>\\\\\n",
       "\\hline\n",
       "\tweek & 0 & 0\\\\\n",
       "\twent & 0 & 0\\\\\n",
       "\twest & 0 & 0\\\\\n",
       "\twhite & 0 & 0\\\\\n",
       "\twin & 0 & 0\\\\\n",
       "\tword & 0 & 0\\\\\n",
       "\tworthi & 0 & 0\\\\\n",
       "\twow & 0 & 0\\\\\n",
       "\tyork & 0 & 0\\\\\n",
       "\tyoung & 0 & 0\\\\\n",
       "\\end{tabular}\n"
      ],
      "text/markdown": [
       "\n",
       "A data.frame: 10 × 2\n",
       "\n",
       "| <!--/--> | coef &lt;dbl&gt; | absCoef &lt;dbl&gt; |\n",
       "|---|---|---|\n",
       "| week | 0 | 0 |\n",
       "| went | 0 | 0 |\n",
       "| west | 0 | 0 |\n",
       "| white | 0 | 0 |\n",
       "| win | 0 | 0 |\n",
       "| word | 0 | 0 |\n",
       "| worthi | 0 | 0 |\n",
       "| wow | 0 | 0 |\n",
       "| york | 0 | 0 |\n",
       "| young | 0 | 0 |\n",
       "\n"
      ],
      "text/plain": [
       "       coef absCoef\n",
       "week   0    0      \n",
       "went   0    0      \n",
       "west   0    0      \n",
       "white  0    0      \n",
       "win    0    0      \n",
       "word   0    0      \n",
       "worthi 0    0      \n",
       "wow    0    0      \n",
       "york   0    0      \n",
       "young  0    0      "
      ]
     },
     "metadata": {},
     "output_type": "display_data"
    }
   ],
   "source": [
    "tail(term_loading, 10)"
   ]
  },
  {
   "cell_type": "code",
   "execution_count": 10,
   "metadata": {
    "ExecuteTime": {
     "end_time": "2020-02-27T05:50:17.922385Z",
     "start_time": "2020-02-27T05:46:06.145Z"
    }
   },
   "outputs": [
    {
     "data": {
      "text/plain": [
       "\n",
       "Call:\n",
       "glm(formula = Label ~ Projection, family = \"binomial\", data = df)\n",
       "\n",
       "Deviance Residuals: \n",
       "    Min       1Q   Median       3Q      Max  \n",
       "-3.9859   0.2324   0.3994   0.5819   4.5002  \n",
       "\n",
       "Coefficients:\n",
       "            Estimate Std. Error z value Pr(>|z|)    \n",
       "(Intercept)  1.50996    0.01251  120.71   <2e-16 ***\n",
       "Projection  12.21484    0.13072   93.44   <2e-16 ***\n",
       "---\n",
       "Signif. codes:  0 ‘***’ 0.001 ‘**’ 0.01 ‘*’ 0.05 ‘.’ 0.1 ‘ ’ 1\n",
       "\n",
       "(Dispersion parameter for binomial family taken to be 1)\n",
       "\n",
       "    Null deviance: 57536  on 58233  degrees of freedom\n",
       "Residual deviance: 44913  on 58232  degrees of freedom\n",
       "AIC: 44917\n",
       "\n",
       "Number of Fisher Scoring iterations: 5\n"
      ]
     },
     "metadata": {},
     "output_type": "display_data"
    }
   ],
   "source": [
    "# fd <- X_train / rowSums(X_train)\n",
    "# fd <- data.matrix(fd)\n",
    "# zd = fd %*% b\n",
    "# textir package implements the above projection\n",
    "srp <- srproj(fit, data.matrix(X_train))\n",
    "\n",
    "# Logistic regression as general linear model\n",
    "df <- data.frame('Projection'=srp[,1],  'Label'=y_train[,1])\n",
    "df$Label <- factor(df$Label)  # As categorical\n",
    "model <- glm(Label ~ Projection, data=df, family='binomial')\n",
    "summary(model)"
   ]
  },
  {
   "cell_type": "code",
   "execution_count": 11,
   "metadata": {
    "ExecuteTime": {
     "end_time": "2020-02-27T05:50:17.952220Z",
     "start_time": "2020-02-27T05:46:06.605Z"
    }
   },
   "outputs": [
    {
     "data": {
      "text/html": [
       "0.830700278188"
      ],
      "text/latex": [
       "0.830700278188"
      ],
      "text/markdown": [
       "0.830700278188"
      ],
      "text/plain": [
       "[1] 0.8307003"
      ]
     },
     "metadata": {},
     "output_type": "display_data"
    }
   ],
   "source": [
    "# In sample prediction\n",
    "glm.probs <- predict(model, type='response')\n",
    "glm.pred <- ifelse(glm.probs>0.5, 1, 0)\n",
    "# Accuracy score\n",
    "sum(glm.pred == y_train) / dim(y_train)[1]"
   ]
  },
  {
   "cell_type": "code",
   "execution_count": 12,
   "metadata": {
    "ExecuteTime": {
     "end_time": "2020-02-27T05:50:19.014304Z",
     "start_time": "2020-02-27T05:46:06.881Z"
    }
   },
   "outputs": [],
   "source": [
    "# Construct test set\n",
    "test_set = data.frame(Projection=srproj(fit, data.matrix(X_test))[,1],  # Project the test X\n",
    "                       Label=y_test[,1]\n",
    "                      )"
   ]
  },
  {
   "cell_type": "code",
   "execution_count": 13,
   "metadata": {
    "ExecuteTime": {
     "end_time": "2020-02-27T05:50:19.053874Z",
     "start_time": "2020-02-27T05:46:07.189Z"
    }
   },
   "outputs": [
    {
     "data": {
      "text/html": [
       "0.751090428272143"
      ],
      "text/latex": [
       "0.751090428272143"
      ],
      "text/markdown": [
       "0.751090428272143"
      ],
      "text/plain": [
       "[1] 0.7510904"
      ]
     },
     "metadata": {},
     "output_type": "display_data"
    }
   ],
   "source": [
    "# Out-of-sample prediction\n",
    "glm.probs <- predict(model, type='response', newdata = test_set)\n",
    "glm.pred <- ifelse(glm.probs>0.5, 1, 0)\n",
    "# Accuracy score\n",
    "sum(glm.pred == y_train) / dim(y_train)[1]"
   ]
  }
 ],
 "metadata": {
  "kernelspec": {
   "display_name": "R",
   "language": "R",
   "name": "ir"
  },
  "language_info": {
   "codemirror_mode": "r",
   "file_extension": ".r",
   "mimetype": "text/x-r-source",
   "name": "R",
   "pygments_lexer": "r",
   "version": "3.6.0"
  }
 },
 "nbformat": 4,
 "nbformat_minor": 4
}
