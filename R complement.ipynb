{
 "cells": [
  {
   "cell_type": "code",
   "execution_count": 2,
   "metadata": {
    "ExecuteTime": {
     "end_time": "2020-02-27T05:39:45.557938Z",
     "start_time": "2020-02-27T05:38:45.774Z"
    }
   },
   "outputs": [],
   "source": [
    "setwd('~/Documents/python_code/text_mining/hw3/')\n",
    "X_train = read.csv('X_train.csv')\n",
    "X_test = read.csv('X_test.csv')\n",
    "y_train = read.csv('y_train.csv')\n",
    "y_test = read.csv('y_test.csv')"
   ]
  },
  {
   "cell_type": "code",
   "execution_count": 4,
   "metadata": {
    "ExecuteTime": {
     "end_time": "2020-02-27T05:46:04.684615Z",
     "start_time": "2020-02-27T05:46:04.666Z"
    }
   },
   "outputs": [],
   "source": [
    "library('textir')"
   ]
  },
  {
   "cell_type": "code",
   "execution_count": null,
   "metadata": {
    "ExecuteTime": {
     "start_time": "2020-02-27T05:46:04.809Z"
    }
   },
   "outputs": [],
   "source": [
    "# Fit LASSO-GAMMA\n",
    "fit <- mnlm(NULL, y_train, X_train)"
   ]
  },
  {
   "cell_type": "code",
   "execution_count": null,
   "metadata": {
    "ExecuteTime": {
     "start_time": "2020-02-27T05:46:05.235Z"
    }
   },
   "outputs": [],
   "source": [
    "term_loading = data.frame('coef'=coef(fit)[2,])\n",
    "term_loading$absCoef = abs(term_loading$coef)"
   ]
  },
  {
   "cell_type": "code",
   "execution_count": null,
   "metadata": {
    "ExecuteTime": {
     "start_time": "2020-02-27T05:46:05.405Z"
    }
   },
   "outputs": [],
   "source": [
    "term_loading = term_loading[order(term_loading$absCoef, decreasing = TRUE),]"
   ]
  },
  {
   "cell_type": "code",
   "execution_count": null,
   "metadata": {
    "ExecuteTime": {
     "start_time": "2020-02-27T05:46:05.578Z"
    }
   },
   "outputs": [],
   "source": [
    "head(term_loading, 10)"
   ]
  },
  {
   "cell_type": "code",
   "execution_count": null,
   "metadata": {
    "ExecuteTime": {
     "start_time": "2020-02-27T05:46:05.741Z"
    }
   },
   "outputs": [],
   "source": [
    "tail(term_loading, 10)"
   ]
  },
  {
   "cell_type": "code",
   "execution_count": null,
   "metadata": {
    "ExecuteTime": {
     "start_time": "2020-02-27T05:46:06.145Z"
    }
   },
   "outputs": [],
   "source": [
    "# fd <- X_train / rowSums(X_train)\n",
    "# fd <- data.matrix(fd)\n",
    "# zd = fd %*% b\n",
    "# textir package implements the above projection\n",
    "srp <- srproj(fit, data.matrix(X_train))\n",
    "\n",
    "# Logistic regression as general linear model\n",
    "df <- data.frame('Projection'=srp[,1],  'Label'=y_train[,1])\n",
    "df$Label <- factor(df$Label)  # As categorical\n",
    "model <- glm(Label ~ Projection, data=df, family='binomial')\n",
    "summary(model)"
   ]
  },
  {
   "cell_type": "code",
   "execution_count": null,
   "metadata": {
    "ExecuteTime": {
     "start_time": "2020-02-27T05:46:06.605Z"
    }
   },
   "outputs": [],
   "source": [
    "# In sample prediction\n",
    "glm.probs <- predict(model, type='response')\n",
    "glm.pred <- ifelse(glm.probs>0.5, 1, 0)\n",
    "# Accuracy score\n",
    "sum(glm.pred == y_train) / dim(y_train)[1]"
   ]
  },
  {
   "cell_type": "code",
   "execution_count": null,
   "metadata": {
    "ExecuteTime": {
     "start_time": "2020-02-27T05:46:06.881Z"
    }
   },
   "outputs": [],
   "source": [
    "# Construct test set\n",
    "test_set = data.frame(Projection=srproj(fit, data.matrix(X_test))[,1],  # Project the test X\n",
    "                       Label=y_test[,1]\n",
    "                      )"
   ]
  },
  {
   "cell_type": "code",
   "execution_count": null,
   "metadata": {
    "ExecuteTime": {
     "start_time": "2020-02-27T05:46:07.189Z"
    }
   },
   "outputs": [],
   "source": [
    "# Out-of-sample prediction\n",
    "glm.probs <- predict(model, type='response', newdata = test_set)\n",
    "glm.pred <- ifelse(glm.probs>0.5, 1, 0)\n",
    "# Accuracy score\n",
    "sum(glm.pred == y_train) / dim(y_train)[1]"
   ]
  },
  {
   "cell_type": "code",
   "execution_count": null,
   "metadata": {},
   "outputs": [],
   "source": []
  }
 ],
 "metadata": {
  "kernelspec": {
   "display_name": "R",
   "language": "R",
   "name": "ir"
  },
  "language_info": {
   "codemirror_mode": "r",
   "file_extension": ".r",
   "mimetype": "text/x-r-source",
   "name": "R",
   "pygments_lexer": "r",
   "version": "3.6.0"
  }
 },
 "nbformat": 4,
 "nbformat_minor": 4
}
